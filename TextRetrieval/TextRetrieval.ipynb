{
  "nbformat": 4,
  "nbformat_minor": 0,
  "metadata": {
    "colab": {
      "provenance": []
    },
    "kernelspec": {
      "name": "python3",
      "display_name": "Python 3"
    },
    "language_info": {
      "name": "python"
    },
    "widgets": {
      "application/vnd.jupyter.widget-state+json": {
        "41026dc2ce1e403f98b808ba1883b4bf": {
          "model_module": "@jupyter-widgets/controls",
          "model_name": "HBoxModel",
          "model_module_version": "1.5.0",
          "state": {
            "_dom_classes": [],
            "_model_module": "@jupyter-widgets/controls",
            "_model_module_version": "1.5.0",
            "_model_name": "HBoxModel",
            "_view_count": null,
            "_view_module": "@jupyter-widgets/controls",
            "_view_module_version": "1.5.0",
            "_view_name": "HBoxView",
            "box_style": "",
            "children": [
              "IPY_MODEL_6074ba7d70f74056b1c715975e32eaa6",
              "IPY_MODEL_c35f2cc5ac1642f1af99d7043e9fb1c8",
              "IPY_MODEL_b2b7de4bdfc8412db9d690304c409ffa"
            ],
            "layout": "IPY_MODEL_c6b1ac9b0af84486865c9b9bfeb9ec21"
          }
        },
        "6074ba7d70f74056b1c715975e32eaa6": {
          "model_module": "@jupyter-widgets/controls",
          "model_name": "HTMLModel",
          "model_module_version": "1.5.0",
          "state": {
            "_dom_classes": [],
            "_model_module": "@jupyter-widgets/controls",
            "_model_module_version": "1.5.0",
            "_model_name": "HTMLModel",
            "_view_count": null,
            "_view_module": "@jupyter-widgets/controls",
            "_view_module_version": "1.5.0",
            "_view_name": "HTMLView",
            "description": "",
            "description_tooltip": null,
            "layout": "IPY_MODEL_713c7ae4f1de4b6c92b1b8c1376b0209",
            "placeholder": "​",
            "style": "IPY_MODEL_5de9efce5acd46009928a8cb950c4902",
            "value": "100%"
          }
        },
        "c35f2cc5ac1642f1af99d7043e9fb1c8": {
          "model_module": "@jupyter-widgets/controls",
          "model_name": "FloatProgressModel",
          "model_module_version": "1.5.0",
          "state": {
            "_dom_classes": [],
            "_model_module": "@jupyter-widgets/controls",
            "_model_module_version": "1.5.0",
            "_model_name": "FloatProgressModel",
            "_view_count": null,
            "_view_module": "@jupyter-widgets/controls",
            "_view_module_version": "1.5.0",
            "_view_name": "ProgressView",
            "bar_style": "success",
            "description": "",
            "description_tooltip": null,
            "layout": "IPY_MODEL_29cf24af25354e6680685cab7f5a052c",
            "max": 3,
            "min": 0,
            "orientation": "horizontal",
            "style": "IPY_MODEL_eb877cae53314dffb013383c06e548e4",
            "value": 3
          }
        },
        "b2b7de4bdfc8412db9d690304c409ffa": {
          "model_module": "@jupyter-widgets/controls",
          "model_name": "HTMLModel",
          "model_module_version": "1.5.0",
          "state": {
            "_dom_classes": [],
            "_model_module": "@jupyter-widgets/controls",
            "_model_module_version": "1.5.0",
            "_model_name": "HTMLModel",
            "_view_count": null,
            "_view_module": "@jupyter-widgets/controls",
            "_view_module_version": "1.5.0",
            "_view_name": "HTMLView",
            "description": "",
            "description_tooltip": null,
            "layout": "IPY_MODEL_543defe726d24d088d8672fd82b7ab5e",
            "placeholder": "​",
            "style": "IPY_MODEL_988d3346440445629cbd5098196c02e0",
            "value": " 3/3 [00:00&lt;00:00, 92.27it/s]"
          }
        },
        "c6b1ac9b0af84486865c9b9bfeb9ec21": {
          "model_module": "@jupyter-widgets/base",
          "model_name": "LayoutModel",
          "model_module_version": "1.2.0",
          "state": {
            "_model_module": "@jupyter-widgets/base",
            "_model_module_version": "1.2.0",
            "_model_name": "LayoutModel",
            "_view_count": null,
            "_view_module": "@jupyter-widgets/base",
            "_view_module_version": "1.2.0",
            "_view_name": "LayoutView",
            "align_content": null,
            "align_items": null,
            "align_self": null,
            "border": null,
            "bottom": null,
            "display": null,
            "flex": null,
            "flex_flow": null,
            "grid_area": null,
            "grid_auto_columns": null,
            "grid_auto_flow": null,
            "grid_auto_rows": null,
            "grid_column": null,
            "grid_gap": null,
            "grid_row": null,
            "grid_template_areas": null,
            "grid_template_columns": null,
            "grid_template_rows": null,
            "height": null,
            "justify_content": null,
            "justify_items": null,
            "left": null,
            "margin": null,
            "max_height": null,
            "max_width": null,
            "min_height": null,
            "min_width": null,
            "object_fit": null,
            "object_position": null,
            "order": null,
            "overflow": null,
            "overflow_x": null,
            "overflow_y": null,
            "padding": null,
            "right": null,
            "top": null,
            "visibility": null,
            "width": null
          }
        },
        "713c7ae4f1de4b6c92b1b8c1376b0209": {
          "model_module": "@jupyter-widgets/base",
          "model_name": "LayoutModel",
          "model_module_version": "1.2.0",
          "state": {
            "_model_module": "@jupyter-widgets/base",
            "_model_module_version": "1.2.0",
            "_model_name": "LayoutModel",
            "_view_count": null,
            "_view_module": "@jupyter-widgets/base",
            "_view_module_version": "1.2.0",
            "_view_name": "LayoutView",
            "align_content": null,
            "align_items": null,
            "align_self": null,
            "border": null,
            "bottom": null,
            "display": null,
            "flex": null,
            "flex_flow": null,
            "grid_area": null,
            "grid_auto_columns": null,
            "grid_auto_flow": null,
            "grid_auto_rows": null,
            "grid_column": null,
            "grid_gap": null,
            "grid_row": null,
            "grid_template_areas": null,
            "grid_template_columns": null,
            "grid_template_rows": null,
            "height": null,
            "justify_content": null,
            "justify_items": null,
            "left": null,
            "margin": null,
            "max_height": null,
            "max_width": null,
            "min_height": null,
            "min_width": null,
            "object_fit": null,
            "object_position": null,
            "order": null,
            "overflow": null,
            "overflow_x": null,
            "overflow_y": null,
            "padding": null,
            "right": null,
            "top": null,
            "visibility": null,
            "width": null
          }
        },
        "5de9efce5acd46009928a8cb950c4902": {
          "model_module": "@jupyter-widgets/controls",
          "model_name": "DescriptionStyleModel",
          "model_module_version": "1.5.0",
          "state": {
            "_model_module": "@jupyter-widgets/controls",
            "_model_module_version": "1.5.0",
            "_model_name": "DescriptionStyleModel",
            "_view_count": null,
            "_view_module": "@jupyter-widgets/base",
            "_view_module_version": "1.2.0",
            "_view_name": "StyleView",
            "description_width": ""
          }
        },
        "29cf24af25354e6680685cab7f5a052c": {
          "model_module": "@jupyter-widgets/base",
          "model_name": "LayoutModel",
          "model_module_version": "1.2.0",
          "state": {
            "_model_module": "@jupyter-widgets/base",
            "_model_module_version": "1.2.0",
            "_model_name": "LayoutModel",
            "_view_count": null,
            "_view_module": "@jupyter-widgets/base",
            "_view_module_version": "1.2.0",
            "_view_name": "LayoutView",
            "align_content": null,
            "align_items": null,
            "align_self": null,
            "border": null,
            "bottom": null,
            "display": null,
            "flex": null,
            "flex_flow": null,
            "grid_area": null,
            "grid_auto_columns": null,
            "grid_auto_flow": null,
            "grid_auto_rows": null,
            "grid_column": null,
            "grid_gap": null,
            "grid_row": null,
            "grid_template_areas": null,
            "grid_template_columns": null,
            "grid_template_rows": null,
            "height": null,
            "justify_content": null,
            "justify_items": null,
            "left": null,
            "margin": null,
            "max_height": null,
            "max_width": null,
            "min_height": null,
            "min_width": null,
            "object_fit": null,
            "object_position": null,
            "order": null,
            "overflow": null,
            "overflow_x": null,
            "overflow_y": null,
            "padding": null,
            "right": null,
            "top": null,
            "visibility": null,
            "width": null
          }
        },
        "eb877cae53314dffb013383c06e548e4": {
          "model_module": "@jupyter-widgets/controls",
          "model_name": "ProgressStyleModel",
          "model_module_version": "1.5.0",
          "state": {
            "_model_module": "@jupyter-widgets/controls",
            "_model_module_version": "1.5.0",
            "_model_name": "ProgressStyleModel",
            "_view_count": null,
            "_view_module": "@jupyter-widgets/base",
            "_view_module_version": "1.2.0",
            "_view_name": "StyleView",
            "bar_color": null,
            "description_width": ""
          }
        },
        "543defe726d24d088d8672fd82b7ab5e": {
          "model_module": "@jupyter-widgets/base",
          "model_name": "LayoutModel",
          "model_module_version": "1.2.0",
          "state": {
            "_model_module": "@jupyter-widgets/base",
            "_model_module_version": "1.2.0",
            "_model_name": "LayoutModel",
            "_view_count": null,
            "_view_module": "@jupyter-widgets/base",
            "_view_module_version": "1.2.0",
            "_view_name": "LayoutView",
            "align_content": null,
            "align_items": null,
            "align_self": null,
            "border": null,
            "bottom": null,
            "display": null,
            "flex": null,
            "flex_flow": null,
            "grid_area": null,
            "grid_auto_columns": null,
            "grid_auto_flow": null,
            "grid_auto_rows": null,
            "grid_column": null,
            "grid_gap": null,
            "grid_row": null,
            "grid_template_areas": null,
            "grid_template_columns": null,
            "grid_template_rows": null,
            "height": null,
            "justify_content": null,
            "justify_items": null,
            "left": null,
            "margin": null,
            "max_height": null,
            "max_width": null,
            "min_height": null,
            "min_width": null,
            "object_fit": null,
            "object_position": null,
            "order": null,
            "overflow": null,
            "overflow_x": null,
            "overflow_y": null,
            "padding": null,
            "right": null,
            "top": null,
            "visibility": null,
            "width": null
          }
        },
        "988d3346440445629cbd5098196c02e0": {
          "model_module": "@jupyter-widgets/controls",
          "model_name": "DescriptionStyleModel",
          "model_module_version": "1.5.0",
          "state": {
            "_model_module": "@jupyter-widgets/controls",
            "_model_module_version": "1.5.0",
            "_model_name": "DescriptionStyleModel",
            "_view_count": null,
            "_view_module": "@jupyter-widgets/base",
            "_view_module_version": "1.2.0",
            "_view_name": "StyleView",
            "description_width": ""
          }
        }
      }
    }
  },
  "cells": [
    {
      "cell_type": "code",
      "execution_count": 40,
      "metadata": {
        "colab": {
          "base_uri": "https://localhost:8080/"
        },
        "id": "6IrMdNflVn4g",
        "outputId": "ec20820a-ac2c-4632-da20-852ef5c3c4bd"
      },
      "outputs": [
        {
          "output_type": "stream",
          "name": "stdout",
          "text": [
            "Requirement already satisfied: datasets==2.13.1 in /usr/local/lib/python3.10/dist-packages (2.13.1)\n",
            "Requirement already satisfied: numpy>=1.17 in /usr/local/lib/python3.10/dist-packages (from datasets==2.13.1) (1.22.4)\n",
            "Requirement already satisfied: pyarrow>=8.0.0 in /usr/local/lib/python3.10/dist-packages (from datasets==2.13.1) (9.0.0)\n",
            "Requirement already satisfied: dill<0.3.7,>=0.3.0 in /usr/local/lib/python3.10/dist-packages (from datasets==2.13.1) (0.3.6)\n",
            "Requirement already satisfied: pandas in /usr/local/lib/python3.10/dist-packages (from datasets==2.13.1) (1.5.3)\n",
            "Requirement already satisfied: requests>=2.19.0 in /usr/local/lib/python3.10/dist-packages (from datasets==2.13.1) (2.27.1)\n",
            "Requirement already satisfied: tqdm>=4.62.1 in /usr/local/lib/python3.10/dist-packages (from datasets==2.13.1) (4.65.0)\n",
            "Requirement already satisfied: xxhash in /usr/local/lib/python3.10/dist-packages (from datasets==2.13.1) (3.2.0)\n",
            "Requirement already satisfied: multiprocess in /usr/local/lib/python3.10/dist-packages (from datasets==2.13.1) (0.70.14)\n",
            "Requirement already satisfied: fsspec[http]>=2021.11.1 in /usr/local/lib/python3.10/dist-packages (from datasets==2.13.1) (2023.6.0)\n",
            "Requirement already satisfied: aiohttp in /usr/local/lib/python3.10/dist-packages (from datasets==2.13.1) (3.8.4)\n",
            "Requirement already satisfied: huggingface-hub<1.0.0,>=0.11.0 in /usr/local/lib/python3.10/dist-packages (from datasets==2.13.1) (0.16.4)\n",
            "Requirement already satisfied: packaging in /usr/local/lib/python3.10/dist-packages (from datasets==2.13.1) (23.1)\n",
            "Requirement already satisfied: pyyaml>=5.1 in /usr/local/lib/python3.10/dist-packages (from datasets==2.13.1) (6.0)\n",
            "Requirement already satisfied: attrs>=17.3.0 in /usr/local/lib/python3.10/dist-packages (from aiohttp->datasets==2.13.1) (23.1.0)\n",
            "Requirement already satisfied: charset-normalizer<4.0,>=2.0 in /usr/local/lib/python3.10/dist-packages (from aiohttp->datasets==2.13.1) (2.0.12)\n",
            "Requirement already satisfied: multidict<7.0,>=4.5 in /usr/local/lib/python3.10/dist-packages (from aiohttp->datasets==2.13.1) (6.0.4)\n",
            "Requirement already satisfied: async-timeout<5.0,>=4.0.0a3 in /usr/local/lib/python3.10/dist-packages (from aiohttp->datasets==2.13.1) (4.0.2)\n",
            "Requirement already satisfied: yarl<2.0,>=1.0 in /usr/local/lib/python3.10/dist-packages (from aiohttp->datasets==2.13.1) (1.9.2)\n",
            "Requirement already satisfied: frozenlist>=1.1.1 in /usr/local/lib/python3.10/dist-packages (from aiohttp->datasets==2.13.1) (1.3.3)\n",
            "Requirement already satisfied: aiosignal>=1.1.2 in /usr/local/lib/python3.10/dist-packages (from aiohttp->datasets==2.13.1) (1.3.1)\n",
            "Requirement already satisfied: filelock in /usr/local/lib/python3.10/dist-packages (from huggingface-hub<1.0.0,>=0.11.0->datasets==2.13.1) (3.12.2)\n",
            "Requirement already satisfied: typing-extensions>=3.7.4.3 in /usr/local/lib/python3.10/dist-packages (from huggingface-hub<1.0.0,>=0.11.0->datasets==2.13.1) (4.7.1)\n",
            "Requirement already satisfied: urllib3<1.27,>=1.21.1 in /usr/local/lib/python3.10/dist-packages (from requests>=2.19.0->datasets==2.13.1) (1.26.16)\n",
            "Requirement already satisfied: certifi>=2017.4.17 in /usr/local/lib/python3.10/dist-packages (from requests>=2.19.0->datasets==2.13.1) (2023.5.7)\n",
            "Requirement already satisfied: idna<4,>=2.5 in /usr/local/lib/python3.10/dist-packages (from requests>=2.19.0->datasets==2.13.1) (3.4)\n",
            "Requirement already satisfied: python-dateutil>=2.8.1 in /usr/local/lib/python3.10/dist-packages (from pandas->datasets==2.13.1) (2.8.2)\n",
            "Requirement already satisfied: pytz>=2020.1 in /usr/local/lib/python3.10/dist-packages (from pandas->datasets==2.13.1) (2022.7.1)\n",
            "Requirement already satisfied: six>=1.5 in /usr/local/lib/python3.10/dist-packages (from python-dateutil>=2.8.1->pandas->datasets==2.13.1) (1.16.0)\n"
          ]
        }
      ],
      "source": [
        "# dowload dataset : Microsoft Machine Reading Comprehension Dataset\n",
        "!pip install datasets==2.13.1\n"
      ]
    },
    {
      "cell_type": "code",
      "source": [
        "from datasets import load_dataset\n",
        "dataset = load_dataset ('ms_marco' , 'v1.1')"
      ],
      "metadata": {
        "colab": {
          "base_uri": "https://localhost:8080/",
          "height": 66,
          "referenced_widgets": [
            "41026dc2ce1e403f98b808ba1883b4bf",
            "6074ba7d70f74056b1c715975e32eaa6",
            "c35f2cc5ac1642f1af99d7043e9fb1c8",
            "b2b7de4bdfc8412db9d690304c409ffa",
            "c6b1ac9b0af84486865c9b9bfeb9ec21",
            "713c7ae4f1de4b6c92b1b8c1376b0209",
            "5de9efce5acd46009928a8cb950c4902",
            "29cf24af25354e6680685cab7f5a052c",
            "eb877cae53314dffb013383c06e548e4",
            "543defe726d24d088d8672fd82b7ab5e",
            "988d3346440445629cbd5098196c02e0"
          ]
        },
        "id": "LYqv47edV5Wh",
        "outputId": "7713f6cb-46aa-444b-c93a-1601b498bc90"
      },
      "execution_count": 41,
      "outputs": [
        {
          "output_type": "stream",
          "name": "stderr",
          "text": [
            "WARNING:datasets.builder:Found cached dataset ms_marco (/root/.cache/huggingface/datasets/ms_marco/v1.1/1.1.0/b6a62715fa5219aea5275dd3556601004cd63945cb63e36e022f77bb3cbbca84)\n"
          ]
        },
        {
          "output_type": "display_data",
          "data": {
            "text/plain": [
              "  0%|          | 0/3 [00:00<?, ?it/s]"
            ],
            "application/vnd.jupyter.widget-view+json": {
              "version_major": 2,
              "version_minor": 0,
              "model_id": "41026dc2ce1e403f98b808ba1883b4bf"
            }
          },
          "metadata": {}
        }
      ]
    },
    {
      "cell_type": "code",
      "source": [
        "subset = dataset[\"test\"]\n",
        "q_infos = [] # contain query, query_id, num of relevant_docs\n",
        "queries = [] # list of query that their type is \"entity\"\n",
        "corpus = [] # get all passage text from dataset\n",
        "import json\n",
        "print(json.dumps(subset[0]))"
      ],
      "metadata": {
        "colab": {
          "base_uri": "https://localhost:8080/"
        },
        "id": "QLgvy_bcW2mO",
        "outputId": "9c12af87-ac52-4f81-d76a-56781ff3b651"
      },
      "execution_count": 42,
      "outputs": [
        {
          "output_type": "stream",
          "name": "stdout",
          "text": [
            "{\"answers\": [\"Yes\"], \"passages\": {\"is_selected\": [0, 0, 1, 0, 0, 0, 0], \"passage_text\": [\"We have been feeding our back yard squirrels for the fall and winter and we noticed that a few of them have missing fur. One has a patch missing down his back and under both arms. Also another has some missing on his whole chest. They are all eating and seem to have a good appetite.\", \"Critters cannot stand the smell of human hair, so sprinkling a barrier of hair clippings around your garden, or lightly working it into the soil when you plant bulbs, apparently does have some merit. The whole thing kind of makes me laugh. It never occurred to me that we are the ones that stink.\", \"Spread some human hair around your vegetable and flower gardens. This will scare the squirrels away because humans are predators of squirrels. It is better if the hair hasn't been washed so the squirrels will easily pick up the human scent.\", \"1 You can sprinkle blood meal around your garden as well. 2  Don\\u2019t trap and relocate squirrels. 3  This is a losing battle since the population of squirrels is extremely high. 4  Also, if the animal is a female there is a high likelihood that you will remove her from babies that depend on her for survival.\", \"Hair loss in squirrels can be caused by mange or fungal disease. Mange is a disease caused by microscopic mites that burrow under the skin. The squirrel mange mite has been reported in both fox and gray squirrels. There have been no reports of this type of mange being transmitted to humans or domestic pets.\", \"1 You can also scatter dog or human hair around your garden. 2  One readers shares, \\u201cI used to have a problem with squirrels digging up my bulbs. 3  Now, once in the spring and once in the fall, I ask my hairdresser to save a big bag of hair for me. 4  I lightly dig this into the soil.\", \"Rabbit repellent. Human hair will keep rabbits out of your garden!! Collect hair from your brushes and spread it around your garden! (via Pioneer Thinking). Natural mulch. When woven into a mat, it retains moisture, it deters weeds. In some instances, it can actually reduce soil erosion. (via NPR). Plant fertilizer.\"], \"url\": [\"http://web.extension.illinois.edu/askextension/thisQuestion.cfm?ThreadID=18526&catID=213&AskSiteID=90\", \"http://www.onehundreddollarsamonth.com/has-anyone-tried-using-hair-to-keep-squirrels-and-deer-out-of-your-garden/\", \"http://www.gardenguides.com/106838-rid-ground-squirrels-tomato-plants-flowers.html\", \"http://www.almanac.com/content/squirrels\", \"http://web.extension.illinois.edu/askextension/thisQuestion.cfm?ThreadID=15895&catID=213&AskSiteID=90\", \"http://www.almanac.com/content/squirrels\", \"http://www.mnn.com/your-home/organic-farming-gardening/blogs/is-human-hair-good-for-your-garden\"]}, \"query\": \"does human hair stop squirrels\", \"query_id\": 0, \"query_type\": \"description\", \"wellFormedAnswers\": []}\n"
          ]
        }
      ]
    },
    {
      "cell_type": "code",
      "source": [
        "# create my custom corpus for text retrieval\n",
        "\n",
        "for sample in subset:\n",
        "    qtype = sample[\"query_type\"]\n",
        "    if qtype != \"entity\":\n",
        "        continue\n",
        "    qstring =  sample[\"query\"]\n",
        "    qid = sample[\"query_id\"]\n",
        "    passage_dict = sample[\"passages\"]\n",
        "    is_selected_lst = passage_dict[\"is_selected\"]\n",
        "    passage_text_lst = passage_dict[\"passage_text\"]\n",
        "    query_info ={\n",
        "        \"query_id\": qid,\n",
        "        \"query\": qstring,\n",
        "        \"relevant_docs\":[]\n",
        "    }\n",
        "    len_c = len(corpus)\n",
        "    for i in range(len(is_selected_lst)):\n",
        "        if is_selected_lst[i] :\n",
        "            doc_idx = len_c + i\n",
        "            query_info[\"relevant_docs\"].append(doc_idx)\n",
        "\n",
        "    if query_info[\"relevant_docs\"] == []:\n",
        "        continue\n",
        "    queries.append(qstring)\n",
        "    q_infos.append(query_info)\n",
        "    corpus += passage_text_lst"
      ],
      "metadata": {
        "id": "YDb7sM9fX9et"
      },
      "execution_count": 43,
      "outputs": []
    },
    {
      "cell_type": "code",
      "source": [
        "print(q_infos[:5])\n",
        "print(subset[7][\"query\"])"
      ],
      "metadata": {
        "colab": {
          "base_uri": "https://localhost:8080/"
        },
        "id": "2N5xvC60ah6T",
        "outputId": "9c3931c9-8248-4439-935a-a9d43dc7ffa4"
      },
      "execution_count": 44,
      "outputs": [
        {
          "output_type": "stream",
          "name": "stdout",
          "text": [
            "[{'query_id': 7, 'query': 'what class are spiders in', 'relevant_docs': [4]}, {'query_id': 13, 'query': 'what types of bacteria are found in the mouth', 'relevant_docs': [10]}, {'query_id': 18, 'query': 'Starch and _____ are common polysaccharide carbohydrates found in plants.', 'relevant_docs': [13, 15]}, {'query_id': 47, 'query': 'what are herbaceous perennials', 'relevant_docs': [23]}, {'query_id': 50, 'query': 'what is the element family for plutonium', 'relevant_docs': [30, 31]}]\n",
            "what class are spiders in\n"
          ]
        }
      ]
    },
    {
      "cell_type": "code",
      "source": [
        "import string\n",
        "from nltk.tokenize import word_tokenize\n",
        "import nltk\n",
        "from nltk.corpus import stopwords\n",
        "from nltk.stem import PorterStemmer\n",
        "\n",
        "from tqdm import tqdm\n",
        "import numpy as np\n",
        "\n",
        "nltk.download('punkt')\n",
        "nltk.download(\"stopwords\")\n",
        "\n",
        "def remove_punctuation(text) -> str:\n",
        "    for c in string.punctuation:\n",
        "        text = text.replace(c, \"\")\n",
        "    return text\n",
        "\n",
        "def remove_stopwords(text) -> str:\n",
        "    # remove words with a little bit meaning\n",
        "    # (remove it without changing meaning of sentences)\n",
        "    english_stopwords = stopwords.words(\"english\")\n",
        "    out = []\n",
        "    for w in word_tokenize(text):\n",
        "        if w not in english_stopwords:\n",
        "            out.append(w)\n",
        "    return \" \".join(out)\n",
        "\n",
        "def stemming(text) -> str:\n",
        "    # change word form\n",
        "    # e.x: flying ->fly, ...\n",
        "    out = []\n",
        "    for w in word_tokenize(text):\n",
        "        out.append(PorterStemmer().stem(w))\n",
        "    return \" \".join(out)\n",
        "\n",
        "def normalize_text(text : str) -> str:\n",
        "    out = text.lower()\n",
        "    out = remove_punctuation(out)\n",
        "    out = remove_stopwords(out)\n",
        "    out = stemming(out)\n",
        "\n",
        "    return out\n",
        "\n",
        "assert normalize_text(\"Hi i'm a apple.,\") == \"hi im appl\""
      ],
      "metadata": {
        "colab": {
          "base_uri": "https://localhost:8080/"
        },
        "id": "x96Ht-xNaauS",
        "outputId": "de41972d-e5b9-4482-a970-56a90f6c6683"
      },
      "execution_count": 45,
      "outputs": [
        {
          "output_type": "stream",
          "name": "stderr",
          "text": [
            "[nltk_data] Downloading package punkt to /root/nltk_data...\n",
            "[nltk_data]   Package punkt is already up-to-date!\n",
            "[nltk_data] Downloading package stopwords to /root/nltk_data...\n",
            "[nltk_data]   Package stopwords is already up-to-date!\n"
          ]
        }
      ]
    },
    {
      "cell_type": "code",
      "source": [
        "def create_dictionary(docs):\n",
        "    dictionary = []\n",
        "    for doc in docs:\n",
        "        for w in word_tokenize(doc):\n",
        "            if w not in dictionary:\n",
        "                dictionary.append(w)\n",
        "    return dictionary\n",
        ""
      ],
      "metadata": {
        "id": "6kb_f4Olv_dD"
      },
      "execution_count": 46,
      "outputs": []
    },
    {
      "cell_type": "code",
      "source": [
        "def vectorize(text, dictionary, typeV=\"count\"):\n",
        "    # ignore word that not in dictionary\n",
        "    v = dict(zip(dictionary, [0]*len(dictionary)))\n",
        "    for w in word_tokenize(text):\n",
        "        if w in dictionary:\n",
        "            if typeV == \"binary\":\n",
        "                v[w] = 1\n",
        "            elif typeV == \"count\":\n",
        "                v[w] +=1\n",
        "    return np.array(list(v.values()))\n",
        "print(vectorize(\"a b d c e a\", [\"a\", \"b\", \"c\"], \"count\"))\n"
      ],
      "metadata": {
        "colab": {
          "base_uri": "https://localhost:8080/"
        },
        "id": "IRA9LaPIkTcd",
        "outputId": "3805ab9e-27d2-446b-8cc3-c0660afed34d"
      },
      "execution_count": 47,
      "outputs": [
        {
          "output_type": "stream",
          "name": "stdout",
          "text": [
            "[2 1 1]\n"
          ]
        }
      ]
    },
    {
      "cell_type": "code",
      "source": [
        "\n",
        "def create_doc_term(docs, dictionary):\n",
        "    print(docs[0])\n",
        "    t = np.array(docs)\n",
        "    print(t.shape)\n",
        "    return t.reshape((-1,len(dictionary)))\n",
        "\n",
        "print(create_doc_term([[[1,3,7], [1,24,6]]], [\"a\", \"b\", \"c\"]))"
      ],
      "metadata": {
        "colab": {
          "base_uri": "https://localhost:8080/"
        },
        "id": "K3oDpifHkcAE",
        "outputId": "404d87ec-67e4-491d-8017-858a65657ab9"
      },
      "execution_count": 48,
      "outputs": [
        {
          "output_type": "stream",
          "name": "stdout",
          "text": [
            "[[1, 3, 7], [1, 24, 6]]\n",
            "(1, 2, 3)\n",
            "[[ 1  3  7]\n",
            " [ 1 24  6]]\n"
          ]
        }
      ]
    },
    {
      "cell_type": "code",
      "source": [
        "def cosine_similarity(v1, v2):\n",
        "    v1 = np.array(v1)\n",
        "    v2 = np.array(v2)\n",
        "    return (v1.dot(v2)) / (np.linalg.norm(v1) * np.linalg.norm(v2) )\n",
        "print(cosine_similarity([1,3,7], [1,24,6]))"
      ],
      "metadata": {
        "colab": {
          "base_uri": "https://localhost:8080/"
        },
        "id": "okrm_ZgF8e1n",
        "outputId": "b40d9aa2-1102-4266-f7df-97aefe93adef"
      },
      "execution_count": 49,
      "outputs": [
        {
          "output_type": "stream",
          "name": "stdout",
          "text": [
            "0.6047022677170876\n"
          ]
        }
      ]
    },
    {
      "cell_type": "code",
      "source": [
        "def ranking(matrix, topk, decend = True):\n",
        "    # return sort idx\n",
        "    idx_sort = np.argsort(np.array(matrix))\n",
        "    if decend:\n",
        "        return idx_sort[::-1][:topk]\n",
        "    return idx_sort[:topk]\n"
      ],
      "metadata": {
        "id": "vWYeJYeEkyPh"
      },
      "execution_count": 50,
      "outputs": []
    },
    {
      "cell_type": "code",
      "source": [
        "# retrieval text\n",
        "class TextRetrievalModel():\n",
        "    def __init__(self, corpus):\n",
        "        self.corpus = corpus\n",
        "        self.normal_corpus = self.__normalize_corpus()\n",
        "        self.dictionary = create_dictionary(self.normal_corpus)\n",
        "        self.docs_term = create_doc_term(self.__vectorize_docs(self.normal_corpus),\n",
        "                                         self.dictionary)\n",
        "\n",
        "    def retrieve_text(self, query, topk = 5):\n",
        "        q_vector = vectorize(normalize_text(query), self.dictionary)\n",
        "        self.cosin_vector = []\n",
        "        for doc in self.docs_term:\n",
        "            cosin = cosine_similarity(q_vector, doc)\n",
        "            self.cosin_vector.append(cosin)\n",
        "        self.idx = ranking(self.cosin_vector, topk)\n",
        "        score = []\n",
        "        top = []\n",
        "        for i in self.idx:\n",
        "            top.append(self.corpus[i])\n",
        "            score.append(self.cosin_vector[i])\n",
        "        return (top,score)\n",
        "\n",
        "    def get_top(self, k = 10):\n",
        "        score = []\n",
        "        top = []\n",
        "        for i in self.idx:\n",
        "            top.append(self.corpus[i])\n",
        "            score.append(self.cosin_vector[i])\n",
        "        return (top,score)\n",
        "\n",
        "    def __normalize_corpus(self):\n",
        "        m = []\n",
        "        for text in self.corpus:\n",
        "            m.append(normalize_text(text))\n",
        "        return m\n",
        "    def __vectorize_docs(self, docs):\n",
        "        v = []\n",
        "        for text in docs:\n",
        "            v.append(vectorize(text, self.dictionary))\n",
        "        return v"
      ],
      "metadata": {
        "id": "x2it_A8Uojaf"
      },
      "execution_count": 90,
      "outputs": []
    },
    {
      "cell_type": "code",
      "source": [
        "model = TextRetrievalModel(corpus)\n"
      ],
      "metadata": {
        "colab": {
          "base_uri": "https://localhost:8080/"
        },
        "id": "SGbizz87PlCD",
        "outputId": "e2724f3a-360a-4517-eb26-f00fa8776cbf"
      },
      "execution_count": 91,
      "outputs": [
        {
          "output_type": "stream",
          "name": "stdout",
          "text": [
            "[1 1 1 ... 0 0 0]\n",
            "(7303, 21559)\n"
          ]
        }
      ]
    },
    {
      "cell_type": "code",
      "source": [
        "retrievaltexts = model.retrieve_text(\"what is the official language in Fiji\", 5)"
      ],
      "metadata": {
        "id": "jnox9_V6XN6K"
      },
      "execution_count": 92,
      "outputs": []
    },
    {
      "cell_type": "code",
      "source": [
        "def print_result(retrievaltexts):\n",
        "    t,c = retrievaltexts\n",
        "    for i in range(len(t)):\n",
        "        print(\"top%2d \\n___text: %.1000s  \\n___score: %.4f\" % (i+1, t[i], c[i]))\n",
        "        print()\n",
        "\n",
        "print_result(retrievaltexts)"
      ],
      "metadata": {
        "colab": {
          "base_uri": "https://localhost:8080/"
        },
        "id": "9244_z9XT7Td",
        "outputId": "fcdf9559-657e-4758-cf6c-1065daa0cf7f"
      },
      "execution_count": 108,
      "outputs": [
        {
          "output_type": "stream",
          "name": "stdout",
          "text": [
            "top 1 \n",
            "___text: The official languages in Fiji are Fijian and English. A dialect of Hindustani is also widely spoken among Indo-Fijians.  _________________________________________   T … he official and everyday language of Fiji is English. Fijian and Fiji-Hindi are second languages in the island nation.  \n",
            "___score: 0.6556\n",
            "\n",
            "top 2 \n",
            "___text: The official languages in Fiji are Fijian and English. A dialect of Hindustani is also widely spoken among Indo-Fijians.  _________________________________________   T … he official and everyday language of Fiji is English. Fijian and Fiji-Hindi are second languages in the island nation.  \n",
            "___score: 0.6556\n",
            "\n",
            "top 3 \n",
            "___text: The official languages. Fiji’s 1997 Constitution established Fijian as one of the official languages of the country. Fijian is an Austronesian language, a grouping that includes thousands of other languages spanning the globe. The language is of the Malayo-Polynesian family, not too different from Hawaiian and Maori.  \n",
            "___score: 0.6468\n",
            "\n",
            "top 4 \n",
            "___text: Of all the languages of Russia, Russian is the only official language. There are 35 different languages which are considered official languages in various regions of Russia, along with Russian. There are over 100 minority languages spoken in Russia today.  \n",
            "___score: 0.5604\n",
            "\n",
            "top 5 \n",
            "___text: Finnish is one of two official languages of Finland (the other being Swedish, spoken by 5.42% of the population as of 2010) and an official language of the European Union. It enjoys the status of an official minority language in Sweden. It is one of the two official languages of Finland and an official minority language in Sweden. In Sweden, both standard Finnish and Meaenkieli, meänkieli A finnish, dialect are. Spoken The kven, language a dialect Of, finnish is spoken In Northern. norway  \n",
            "___score: 0.5592\n",
            "\n"
          ]
        }
      ]
    }
  ]
}