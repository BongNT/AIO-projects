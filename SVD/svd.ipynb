{
 "cells": [
  {
   "cell_type": "code",
   "execution_count": 2,
   "metadata": {},
   "outputs": [],
   "source": [
    "import cv2\n",
    "import numpy as np\n",
    "import matplotlib.pyplot as plt"
   ]
  },
  {
   "cell_type": "code",
   "execution_count": 3,
   "metadata": {},
   "outputs": [],
   "source": [
    "def compute_svd(input_matrix):\n",
    "    m, n = np.shape(input_matrix)\n",
    "\n",
    "    # transpose matrix\n",
    "    input_matrix_T = input_matrix.transpose()\n",
    "\n",
    "    if m >= n:  # dim U >= dim V => use AAt and At will be used to calculate the remaining orthogonal matrix\n",
    "        matrix_multiply_transpose = input_matrix @ input_matrix_T\n",
    "        chosen_matrix = input_matrix_T\n",
    "    else:  # dim U < dim V => use AtA and A will be used to calculate the remaining orthogonal matrix\n",
    "        matrix_multiply_transpose = input_matrix_T @ input_matrix\n",
    "        chosen_matrix = input_matrix\n",
    "\n",
    "    # compute eigenvalues and eigenvectors, note that each eigenvector is vertical within the result\n",
    "    eigenvalues, eigenvectors = np.linalg.eig(matrix_multiply_transpose)\n",
    "\n",
    "    # sort both arrays with respect to eigenvalues decreasing\n",
    "    sorted_index = eigenvalues.argsort()\n",
    "    inverse_sorted_index = sorted_index[::-1]\n",
    "    eigenvalues = eigenvalues[inverse_sorted_index]\n",
    "    eigenvectors = eigenvectors[:, inverse_sorted_index]\n",
    "\n",
    "    # for non-symmetric matrices, there will be an invalid eigenvalue = 0 and invalid corresponding eigenvector\n",
    "    # when sorted, they are at the end of the np array, so we need to remove it\n",
    "    if eigenvalues[-1] == 0:\n",
    "        eigenvalues = np.delete(eigenvalues, -1)\n",
    "        eigenvectors = np.delete(eigenvectors, -1, axis=1)\n",
    "\n",
    "    # find singular value = sqrt eigenvalues\n",
    "    singular_values = np.sqrt(eigenvalues)\n",
    "\n",
    "    # # construct sigma matrix\n",
    "    # sigma = np.diag(singular_values)\n",
    "\n",
    "    # construct the remaining orthogonal matrix\n",
    "    remain = chosen_matrix.dot(eigenvectors) / singular_values\n",
    "\n",
    "    # note that to reconstruct the input_matrix, we need to transpose the remain\n",
    "    return eigenvectors, singular_values, remain"
   ]
  },
  {
   "cell_type": "code",
   "execution_count": 5,
   "metadata": {},
   "outputs": [
    {
     "name": "stdout",
     "output_type": "stream",
     "text": [
      "[[ 0.70710678 -0.70710678]\n",
      " [ 0.          0.        ]\n",
      " [ 0.70710678  0.70710678]]\n"
     ]
    }
   ],
   "source": [
    "matrix = np.array([[7, 1], [0, 0], [5, 5]])\n",
    "U, S, VT = compute_svd(matrix)\n",
    "print(U)"
   ]
  },
  {
   "cell_type": "code",
   "execution_count": 10,
   "metadata": {},
   "outputs": [
    {
     "name": "stdout",
     "output_type": "stream",
     "text": [
      "[[-0.70710678  0.70710678  0.        ]\n",
      " [ 0.          0.         -1.        ]\n",
      " [-0.70710678 -0.70710678  0.        ]]\n"
     ]
    }
   ],
   "source": [
    "u2, s2,vt2 = np.linalg.svd(np.array([[7, 1], [0, 0], [5, 5]]))\n",
    "print(u2)"
   ]
  }
 ],
 "metadata": {
  "kernelspec": {
   "display_name": "aio",
   "language": "python",
   "name": "python3"
  },
  "language_info": {
   "codemirror_mode": {
    "name": "ipython",
    "version": 3
   },
   "file_extension": ".py",
   "mimetype": "text/x-python",
   "name": "python",
   "nbconvert_exporter": "python",
   "pygments_lexer": "ipython3",
   "version": "3.9.15"
  },
  "orig_nbformat": 4
 },
 "nbformat": 4,
 "nbformat_minor": 2
}
